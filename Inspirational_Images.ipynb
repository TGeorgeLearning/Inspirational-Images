{
  "cells": [
    {
      "cell_type": "code",
      "execution_count": null,
      "metadata": {
        "id": "5kl8HOPxMwd1"
      },
      "outputs": [],
      "source": [
        "from google.colab import drive\n",
        "import numpy as np\n",
        "import matplotlib.pyplot as plt\n",
        "from PIL import Image\n",
        "import os\n",
        "from IPython.display import display\n",
        "from PIL import ImageDraw\n",
        "from PIL import ImageFont\n",
        "import textwrap\n",
        "import requests\n",
        "from bs4 import BeautifulSoup\n",
        "import re\n",
        "import io\n",
        "\n",
        "drive.mount('/content/drive')"
      ]
    },
    {
      "cell_type": "code",
      "execution_count": null,
      "metadata": {
        "id": "zxKcLBhQJ0JK",
        "collapsed": true
      },
      "outputs": [],
      "source": [
        "\n",
        "\n",
        "folder_path = '/content/drive/MyDrive/test'  # Replace with the path to your folder\n",
        "\n",
        "# List all files and subdirectories in the folder\n",
        "contents = os.listdir(folder_path)\n",
        "\n",
        "# Print the list of contents\n",
        "print(contents)\n",
        "\n",
        "test = np.array(Image.open('/content/drive/MyDrive/test/'+contents[1])) # See the first comment\n",
        "\n",
        "plt.imshow(test)\n",
        "plt.show()"
      ]
    },
    {
      "cell_type": "code",
      "execution_count": null,
      "metadata": {
        "id": "t0u7IE19NHfM"
      },
      "outputs": [],
      "source": [
        "\n",
        "\n",
        "\n",
        "# Create a sample NumPy array (for example purposes)\n",
        "array = test.astype(np.uint8)  # Convert array to unsigned 8-bit integer type\n",
        "\n",
        "# Convert NumPy array to PIL image\n",
        "img = Image.fromarray(array)\n",
        "\n",
        "pngI = Image.fromarray(pngImg.astype(np.uint8))\n",
        "I1 = ImageDraw.Draw(img)\n",
        "\n",
        "# Add Text to an image\n",
        "\n"
      ]
    },
    {
      "cell_type": "code",
      "execution_count": null,
      "metadata": {
        "id": "cwxh3I3hSmnQ"
      },
      "outputs": [],
      "source": [
        "font = ImageFont.truetype((REPLACE THIS WITH YOUR FONT FILE), 40)\n",
        "position = (int(img.width/2) , int(img.height/2))\n",
        "#I1.text(position, \"Success is not final, failure is not fatal: it is the courage to continue that counts - Winston Churchill\", font=font, fill=\"white\")\n",
        "#display(img)"
      ]
    },
    {
      "cell_type": "code",
      "execution_count": null,
      "metadata": {
        "id": "vXGPLUZfa_WF",
        "collapsed": true
      },
      "outputs": [],
      "source": [
        "img = img.convert(\"RGBA\")\n",
        "\n",
        "# Convert image to NumPy array\n",
        "imgAr = np.array(img)\n",
        "\n",
        "# Define the opacity level (0.0 to 1.0, where 1.0 is fully opaque)\n",
        "opacity_level = 0.8\n",
        "\n",
        "# Adjust the alpha channel (4th channel)\n",
        "imgAr[:, :, 3] = (imgAr[:, :, 3] * opacity_level).astype(np.uint8)\n",
        "\n",
        "# Convert back to PIL image\n",
        "tImg = Image.fromarray(imgAr)\n",
        "display(tImg)\n",
        "print(img.height)\n",
        "print(img.width)"
      ]
    },
    {
      "cell_type": "code",
      "execution_count": null,
      "metadata": {
        "id": "9R3ETlMhgNP6",
        "collapsed": true
      },
      "outputs": [],
      "source": [
        "# THIS segment and above is all testing\n",
        "left = img.width/2 - 500\n",
        "upper = img.height/2 - 500\n",
        "right = img.width/2 + 500\n",
        "lower = img.height/2 + 500\n",
        "crop_box = (left, upper, right, lower)\n",
        "text = \"Success is not final, failure is not fatal: it is the courage to continue that counts - Winston Churchill\"\n",
        "\n",
        "# Crop the image\n",
        "newImg = tImg.crop(crop_box)\n",
        "I2 = ImageDraw.Draw(newImg)\n",
        "\n",
        "# Define the maximum width for text wrapping\n",
        "max_width = newImg.width - 20  # Adjust as needed\n",
        "\n",
        "# Wrap the text into multiple lines\n",
        "wrapped_text = textwrap.fill(text, width=40)  # Adjust the width parameter to fit your needs\n",
        "\n",
        "# Draw each line of the wrapped text\n",
        "lines = wrapped_text.split('\\n')\n",
        "y_text = int(newImg.height / 2)  # Starting y position\n",
        "\n",
        "for line in lines:\n",
        "    # Get the width and height of the line to calculate the x position\n",
        "    width, height = I2.textsize(line, font=font)\n",
        "    x_text = (newImg.width - width) / 2  # Center align\n",
        "    I2.text((x_text, y_text), line, font=font, fill=\"yellow\")\n",
        "    y_text += height  # Move to the next line\n",
        "\n",
        "# Display the image with the text\n",
        "\n",
        "position = (\n",
        "    (newImg.width - pngI.width) // 2,\n",
        "    (newImg.height - pngI.height) // 2\n",
        ")\n",
        "newImg.paste(pngI, position, pngI)\n",
        "display(newImg)\n"
      ]
    },
    {
      "cell_type": "code",
      "source": [
        "#gets all of the images into a list called imgList\n",
        "\n",
        "\n",
        "URL = \"https://picjumbo.com/free-stock-photos/nature/\"\n",
        "page = requests.get(URL)\n",
        "soup = BeautifulSoup(page.content, 'html.parser')\n",
        "j = soup.find_all(\"img\", class_=\"image\")\n",
        "#print(page.text)\n",
        "imgList = []\n",
        "pattern = r'src=\"(//[^\"]+?quality=80)\"'\n",
        "for i in range(len(j)):\n",
        "  match = re.search(pattern, str(j[i]))\n",
        "  if match:  # Check if a match was found\n",
        "    imgList.append(\"https:\"+ match.group(1))\n",
        "\n",
        "len(imgList)"
      ],
      "metadata": {
        "id": "RW5jdMtj5ZDc"
      },
      "execution_count": null,
      "outputs": []
    },
    {
      "cell_type": "code",
      "source": [
        "imageList =[]\n",
        "\n",
        "for i in range(len(imgList)):\n",
        "  image_content = requests.get(imgList[i]).content\n",
        "  image_file = io.BytesIO(image_content)\n",
        "  imageList.append(Image.open(image_file).convert(\"RGB\"))\n",
        "  display(imageList[i])\n"
      ],
      "metadata": {
        "id": "d1YQM--4bQHP"
      },
      "execution_count": null,
      "outputs": []
    },
    {
      "cell_type": "code",
      "source": [
        "\n",
        "image_content = requests.get(\"https://i0.wp.com/picjumbo.com/wp-content/uploads/magical-spring-forest-scenery-during-morning-breeze-free-photo.jpg?w=600&amp;quality=80\").content\n",
        "\n",
        "image_content\n",
        "image_file = io.BytesIO(image_content)\n",
        "image = Image.open(image_file).convert(\"RGB\")\n",
        "display(image)\n"
      ],
      "metadata": {
        "id": "4h1MlneSNGSR"
      },
      "execution_count": null,
      "outputs": []
    },
    {
      "cell_type": "code",
      "source": [
        "imageList =[]\n",
        "pngImg = np.array(Image.open('/content/drive/MyDrive/test/'+contents[3]))\n",
        "pngI = Image.fromarray(pngImg.astype(np.uint8))\n",
        "display(pngI)\n",
        "for i in range(21):\n",
        "  image_content = requests.get(imgList[i]).content\n",
        "  image_file = io.BytesIO(image_content)\n",
        "  temp = (Image.open(image_file).convert(\"RGB\"))\n",
        "  if temp.width<temp.height:\n",
        "    factor = 1000/temp.width\n",
        "  else:\n",
        "    factor = 1000/temp.height\n",
        "  newImage = temp.resize((int(temp.width*factor), int(temp.height*factor)))\n",
        "  left = newImage.width/2 - 500\n",
        "  upper = newImage.height/2 - 500\n",
        "  right = newImage.width/2 + 500\n",
        "  lower = newImage.height/2 + 500\n",
        "  crop_box = (left, upper, right, lower)\n",
        "\n",
        "  newImage = newImage.crop(crop_box)\n",
        "  newImage = newImage.convert(\"RGBA\")\n",
        "  tempAr = np.array(newImage)\n",
        "\n",
        "  opacity_level = 0.5\n",
        "\n",
        "  tempAr[:, :, 3] = (tempAr[:, :, 3] * opacity_level).astype(np.uint8)\n",
        "\n",
        "  newImage = Image.fromarray(tempAr)\n",
        "\n",
        "  position = (\n",
        "    (newImage.width - pngI.width) // 2,\n",
        "    (newImage.height - pngI.height) // 2\n",
        ")\n",
        "  newImage.paste(pngI, position, pngI)\n",
        "\n",
        "  imageList.append(newImage)\n",
        "  #display(imageList[i])\n",
        "  print(newImage.width)\n",
        "  print(newImage.height)\n",
        "\n",
        "text = \"Success is not final, failure is not fatal: it is the courage to continue that counts - Winston Churchill\"\n",
        "\n",
        "# Crop the image\n"
      ],
      "metadata": {
        "collapsed": true,
        "id": "1rDrginDXSN7"
      },
      "execution_count": null,
      "outputs": []
    },
    {
      "cell_type": "code",
      "source": [
        "# Gets the quotes\n",
        "URL = \"https://bookroo.com/quotes/the-great-gatsby\"\n",
        "page = requests.get(URL)\n",
        "\n",
        "soup = BeautifulSoup(page.content, 'html.parser')\n",
        "j = soup.find_all(\"div\", class_=\"text-lg md:text-xl leading-[1.8] whitespace-pre-wrap break-words mb-4\")\n",
        "gatsby = []\n",
        "for i in range(len(j)):\n",
        "  words = j[i].text\n",
        "  if len(words)<130:\n",
        "    gatsby.append(j[i].text)\n",
        "#print(page.text)\n",
        "gatsby\n",
        "len(gatsby)"
      ],
      "metadata": {
        "id": "AUKDo_bdSr2k"
      },
      "execution_count": null,
      "outputs": []
    },
    {
      "cell_type": "code",
      "source": [
        "#Puts everything together!\n",
        "font = ImageFont.truetype('/content/drive/MyDrive/test/Ldfcomicsanslight-6dZo.ttf', 40)\n",
        "\n",
        "for i in range(22):\n",
        "  newImage=imageList[i]\n",
        "  # Define the maximum width for text wrapping\n",
        "  max_width = newImage.width - 20  # Adjust as needed\n",
        "\n",
        "# Wrap the text into multiple lines\n",
        "  wrapped_text = textwrap.fill(gatsby[i], width=35)  # Adjust the width parameter to fit your needs\n",
        "\n",
        "# Draw each line of the wrapped text\n",
        "  lines = wrapped_text.split('\\n')\n",
        "  y_text = int(newImage.height / 2)  # Starting y position\n",
        "  I2 = ImageDraw.Draw(newImage)\n",
        "\n",
        "  for line in lines:\n",
        "    # Get the width and height of the line to calculate the x position\n",
        "      width, height = I2.textsize(line, font=font)\n",
        "      x_text = (newImage.width - width) / 2  # Center align\n",
        "      I2.text((x_text, y_text), line, font=font, fill=\"black\")\n",
        "      y_text += height  # Move to the next line\n",
        "  display(newImage)\n",
        "# Display the image with the text\n",
        "\n"
      ],
      "metadata": {
        "id": "fG2iAq0lQeq4"
      },
      "execution_count": null,
      "outputs": []
    }
  ],
  "metadata": {
    "colab": {
      "provenance": []
    },
    "kernelspec": {
      "display_name": "Python 3",
      "name": "python3"
    },
    "language_info": {
      "name": "python"
    }
  },
  "nbformat": 4,
  "nbformat_minor": 0
}